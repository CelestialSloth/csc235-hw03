{
 "cells": [
  {
   "cell_type": "code",
   "execution_count": 156,
   "metadata": {},
   "outputs": [],
   "source": [
    "import pandas as pd\n",
    "import plotly.express as px\n",
    "import plotly.graph_objects as go\n",
    "from dash import Dash\n",
    "from dash import dcc\n",
    "from dash import html\n",
    "from dash.dependencies import Input, Output"
   ]
  },
  {
   "cell_type": "code",
   "execution_count": 39,
   "metadata": {},
   "outputs": [],
   "source": [
    "lekagul_df = pd.read_csv('hw03-data/Traffic Data/Lekagul Sensor Data.csv')\n",
    "lekagul_df['Timestamp'] = pd.to_datetime(lekagul_df['Timestamp'])"
   ]
  },
  {
   "cell_type": "code",
   "execution_count": 105,
   "metadata": {},
   "outputs": [],
   "source": [
    "# [car_id, car_type, entry_timestamp, exit_timestamp, length_of_stay]\n",
    "def compute_length_of_stay_row(car_id):\n",
    "    relevant_data = lekagul_df[lekagul_df['car-id'] == car_id]\n",
    "    length_of_stay = (relevant_data['Timestamp'].max() - relevant_data['Timestamp'].min()).total_seconds()/60/60\n",
    "    car_type = relevant_data.iloc[0]['car-type']\n",
    "    return [car_id, car_type, relevant_data['Timestamp'].min(), relevant_data['Timestamp'].max(),length_of_stay]"
   ]
  },
  {
   "cell_type": "code",
   "execution_count": 106,
   "metadata": {},
   "outputs": [],
   "source": [
    "# create list: [car id, entry timestamp, length of stay]\n",
    "unique_ids = lekagul_df['car-id'].unique()\n",
    "length_of_stay_data = []\n",
    "for unique_id in unique_ids:\n",
    "    length_of_stay_data.append(compute_length_of_stay_row(unique_id))"
   ]
  },
  {
   "cell_type": "code",
   "execution_count": 112,
   "metadata": {},
   "outputs": [],
   "source": [
    "# create dataframe from list\n",
    "length_of_stay_df = pd.DataFrame(length_of_stay_data, columns=['car-id', 'car-type', 'entry-timestamp', 'exit-timestamp', 'length-of-stay-in-hours'])"
   ]
  },
  {
   "cell_type": "code",
   "execution_count": 162,
   "metadata": {},
   "outputs": [
    {
     "data": {
      "text/html": [
       "\n",
       "        <iframe\n",
       "            width=\"100%\"\n",
       "            height=\"650\"\n",
       "            src=\"http://127.0.0.1:8050/\"\n",
       "            frameborder=\"0\"\n",
       "            allowfullscreen\n",
       "            \n",
       "        ></iframe>\n",
       "        "
      ],
      "text/plain": [
       "<IPython.lib.display.IFrame at 0x7fb43b394430>"
      ]
     },
     "metadata": {},
     "output_type": "display_data"
    }
   ],
   "source": [
    "# https://martinxpn.medium.com/creating-beautiful-data-visualizations-with-plotly-and-dash-96-100-days-of-python-bbfdfd333a3b\n",
    "app = Dash(__name__)\n",
    "app.layout = html.Div([\n",
    "    dcc.Input(\n",
    "            id=\"max_y\",\n",
    "            type='number',\n",
    "            placeholder=\"max y value\",\n",
    "        ),\n",
    "    dcc.Graph(id='my_graph', figure=figure)\n",
    "])\n",
    "\n",
    "@app.callback(\n",
    "    Output(component_id='my_graph', component_property='figure'),\n",
    "    Input(component_id='max_y', component_property='value')\n",
    ")\n",
    "def update_graph(max_y):\n",
    "\n",
    "    # filtered_df = length_of_stay_df[length_of_stay_df['length-of-stay-in-hours'] < max_y]\n",
    "    \n",
    "    fig = px.scatter(length_of_stay_df, \n",
    "                 x='entry-timestamp', \n",
    "                 y='length-of-stay-in-hours', \n",
    "                 color='car-type', \n",
    "                 hover_data='car-id')\n",
    "    \n",
    "    # create the figure\n",
    "    figure = go.Figure(data=fig)\n",
    "\n",
    "    # Add the range slider\n",
    "    figure.update_layout(\n",
    "        title=\"Arrival Time vs Length of Stay in Hours\",\n",
    "        yaxis=dict(\n",
    "            title='Length of stay (hours)',\n",
    "        ),\n",
    "        xaxis=dict(\n",
    "            title='Entry Timestamp',\n",
    "            rangeslider=dict(\n",
    "                visible=True,\n",
    "                thickness=0.025,\n",
    "                bgcolor='#AAAAAA'\n",
    "            ), # Enables the range slider\n",
    "            rangeselector=dict(\n",
    "                buttons=list([\n",
    "                    dict(step=\"all\"),\n",
    "                ]),\n",
    "            )\n",
    "        ),\n",
    "        yaxis_range=[0,max_y]\n",
    "    )\n",
    "    return figure\n",
    "\n",
    "if __name__ == '__main__':\n",
    "    app.run_server(debug=True)"
   ]
  }
 ],
 "metadata": {
  "kernelspec": {
   "display_name": "csc235env",
   "language": "python",
   "name": "python3"
  },
  "language_info": {
   "codemirror_mode": {
    "name": "ipython",
    "version": 3
   },
   "file_extension": ".py",
   "mimetype": "text/x-python",
   "name": "python",
   "nbconvert_exporter": "python",
   "pygments_lexer": "ipython3",
   "version": "3.10.9"
  }
 },
 "nbformat": 4,
 "nbformat_minor": 2
}
